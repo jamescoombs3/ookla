{
 "cells": [
  {
   "cell_type": "markdown",
   "metadata": {},
   "source": [
    "# Second Pass"
   ]
  },
  {
   "cell_type": "markdown",
   "metadata": {},
   "source": [
    "This script addresses two issues\n",
    "\n",
    "Data cleansing and filtering is an iterative process and this contains a second tranche of filtering to remove \n",
    "1.Rows where location accuracy is zero. It transpires that this means unknown rather than zero! \n",
    "2.Remove rows where the location type start is 2 (GeoIP rather than GPS) \n",
    "3.Any location_age_a which is older than ten minutes. (10 x 60 x 1000 milliseconds)\n",
    "\n",
    "Another issue was that it was not possible to load the (half) coverage map without closing down all other applications \n",
    "Purpose of this was to create two pickle format files which with all of the required pre-processing. \n",
    "\n",
    "Loading the (half) coverage map consumed 1.2GB memory. It wasn’t possible to load this without closing down all other applications but changing the data type from float to integer halves memory consumption. Therefore this script also writes the fully filtered Ookla data and the coverage map to pickle format files so they can be re-loaded into the final modelling script. \n",
    "\n",
    "\n",
    "\n"
   ]
  },
  {
   "cell_type": "code",
   "execution_count": 1,
   "metadata": {},
   "outputs": [],
   "source": [
    "# load libraries\n",
    "import pandas as pd\n",
    "import numpy as np"
   ]
  },
  {
   "cell_type": "markdown",
   "metadata": {},
   "source": [
    "This script carries out final preparation of the coverage map and Ookla data  \n",
    "                                                          \n",
    "COVERAGE MAP\n",
    "============\n",
    "This section:  \n",
    "1) Loads the first 12,000 lines of the August coverage map. (This is the max which can be loaded but \n",
    "   covers 93.7% of the sample data.)\n",
    "2) Changes the data from floats to integer. This reduces memory consumption from 1.2GB to 600MB \n",
    "3) The lowest actual value is -127 dBm but no signal at all is recorded as 0 (which as loss is being measured would\n",
    "   represent a perfect signal!) Changed zeros to -128 to prevent them distorting any predictions.  \n",
    "4) Rewrites the coverage map as a pickle file.  \n"
   ]
  },
  {
   "cell_type": "code",
   "execution_count": 2,
   "metadata": {},
   "outputs": [],
   "source": [
    "# set some pointers\n",
    "workdir = 'p:/ookla/pickle'\n",
    "rasterfile = 'P:/ookla/4G_RSS/2021-01-08-AW_H3G_LTE1800-1st-Best-RSS.asc'\n"
   ]
  },
  {
   "cell_type": "code",
   "execution_count": 3,
   "metadata": {},
   "outputs": [],
   "source": [
    "# define a function to show shape and and memory consumption of dataframe\n",
    "def sizeof(df):\n",
    "    name = [x for x in globals() if globals()[x] is df][0]\n",
    "    print('Dataframe name:', name)\n",
    "    print('Shape:', df.shape)\n",
    "    print('Memory consumed: {0:.2f} MB'.format(\n",
    "        df.memory_usage().sum() / (1024 * 1024)\n",
    "    ))\n"
   ]
  },
  {
   "cell_type": "code",
   "execution_count": 4,
   "metadata": {},
   "outputs": [
    {
     "name": "stdout",
     "output_type": "stream",
     "text": [
      "Dataframe name: rf\n",
      "Shape: (12000, 13561)\n",
      "Memory consumed: 1241.55 MB\n",
      "None\n"
     ]
    }
   ],
   "source": [
    "# Run task manager, kill your browsers and look at memory consumption before running this!\n",
    "# file contains 22830 rows (checked with wc -l) and we want to read the last 12k only\n",
    "rf = pd.read_csv(rasterfile, delim_whitespace=True, header=None, low_memory=False, skiprows=22830 - 12000)\n",
    "\n",
    "print(sizeof(rf))"
   ]
  },
  {
   "cell_type": "code",
   "execution_count": 5,
   "metadata": {},
   "outputs": [
    {
     "name": "stdout",
     "output_type": "stream",
     "text": [
      "mean values in the dataframe are -44.87305983457463\n"
     ]
    }
   ],
   "source": [
    "# Check the mean values before changing floats to integer \n",
    "print('mean values in the dataframe are', rf.mean().mean())"
   ]
  },
  {
   "cell_type": "code",
   "execution_count": 6,
   "metadata": {},
   "outputs": [
    {
     "name": "stdout",
     "output_type": "stream",
     "text": [
      "mean values in the dataframe are (still) -44.87305983457463\n",
      "Dataframe name: rf\n",
      "Shape: (12000, 13561)\n",
      "Memory consumed: 620.77 MB\n",
      "None\n"
     ]
    }
   ],
   "source": [
    "rf = rf.astype(int)\n",
    "print('mean values in the dataframe are (still)', rf.mean().mean())\n",
    "print(sizeof(rf))"
   ]
  },
  {
   "cell_type": "code",
   "execution_count": 7,
   "metadata": {},
   "outputs": [
    {
     "name": "stdout",
     "output_type": "stream",
     "text": [
      "mean values in the dataframe are -44.87305983457463\n"
     ]
    }
   ],
   "source": [
    "# Check the mean values again after changing floats to integer \n",
    "print('mean values in the dataframe are', rf.mean().mean())"
   ]
  },
  {
   "cell_type": "code",
   "execution_count": 8,
   "metadata": {},
   "outputs": [],
   "source": [
    "# Make a copy of the map as a pickle file (memory efficient)\n",
    "rf = rf.replace(0, -128)\n",
    "rf.to_pickle(workdir + '/aug_map.pickle')"
   ]
  },
  {
   "cell_type": "markdown",
   "metadata": {},
   "source": [
    "Final Ookla data preparation\n",
    "============================\n",
    "Data prep is always an iterative process. This second tranche of filtering will takes as its input \n",
    "the concatenated monthly files from May, Jun, Jul, Aug and remove: \n",
    "1)  Rows further north than 600,000 (600km). This removes 2,914 of 46810 records = 6.225% (actually this happens in the initial filtering stage!)\n",
    "2)  Rows where location accuracy is zero. It transpires that this means unknown rather than zero! \n",
    "3)\tSelect only rows where location_type_start is 1 (GPS rather than GeoIP)\n",
    "4)\tRemove rows where location_age_a is older than ten minutes. (10 x 60 x 1000 milliseconds)\n",
    "5)  Rewrite the 24x pre_connection_type codes as either WiFi, Cellular or unknown then use get_dummies to create cats.  \n",
    "6)  Rewrite the Ookla data as a pickle file.\n",
    "\n"
   ]
  },
  {
   "cell_type": "code",
   "execution_count": 10,
   "metadata": {},
   "outputs": [
    {
     "name": "stdout",
     "output_type": "stream",
     "text": [
      "(473141, 38)\n"
     ]
    }
   ],
   "source": [
    "# read the Ookla CSV file\n",
    "datafile = 'P:/ookla/may-aug.csv' \n",
    "ook_df = pd.read_csv(datafile, low_memory=False)\n",
    "print(ook_df.shape)"
   ]
  },
  {
   "cell_type": "code",
   "execution_count": 11,
   "metadata": {},
   "outputs": [
    {
     "name": "stdout",
     "output_type": "stream",
     "text": [
      "Max Northings value is 599976.7267282322\n"
     ]
    }
   ],
   "source": [
    "\"\"\" \n",
    "1) Rows further north than 600,000 (600km)\n",
    "THIS FILTER IS DEPLOYED IN FIRST PASS. On test data (single day) this removed 2,914 of 46810 records, about 6.225%.  \n",
    "Confirm that all the test data is below 600km North\n",
    "\"\"\"\n",
    "print('Max Northings value is', ook_df['N'].max())\n"
   ]
  },
  {
   "cell_type": "code",
   "execution_count": 12,
   "metadata": {},
   "outputs": [
    {
     "name": "stdout",
     "output_type": "stream",
     "text": [
      "starting shape (473141, 38)\n"
     ]
    }
   ],
   "source": [
    "# Data happens to have a couple of unused columns so rather than delete and create rename these as\n",
    "# RSRP (signal strength) and WiFi (Boolean categorical for WiFi connection)\n",
    "ook_df = ook_df.rename(columns={'Unnamed: 0': 'RSRP', 'index': 'WiFi'})\n",
    "print('starting shape', ook_df.shape)"
   ]
  },
  {
   "cell_type": "code",
   "execution_count": 13,
   "metadata": {},
   "outputs": [
    {
     "name": "stdout",
     "output_type": "stream",
     "text": [
      "removing location accuracy = 0 (which means unknown rather than zero!)\n",
      "Shape is now (457736, 38)\n"
     ]
    }
   ],
   "source": [
    "# 2)  Rows where location accuracy is zero. It transpires that this means unknown rather than zero!\n",
    "# It turns out that location accuracy of \"0\" doesn't mean what you might think!\n",
    "# Remove all the rows where this is zero!\n",
    "print('removing location accuracy = 0 (which means unknown rather than zero!)')\n",
    "ook_df = ook_df[ook_df['location_accuracy_a'] > 0]\n",
    "print('Shape is now', ook_df.shape)"
   ]
  },
  {
   "cell_type": "code",
   "execution_count": 14,
   "metadata": {},
   "outputs": [
    {
     "name": "stdout",
     "output_type": "stream",
     "text": [
      "Selecting only rows which use GPS location\n",
      "Shape is now (457452, 38)\n"
     ]
    }
   ],
   "source": [
    "# 3)\tSelect only rows where location_type_start is 1 (GPS rather than GeoIP)\n",
    "# 1=GPS\n",
    "# 2=GeoIP\n",
    "print('Selecting only rows which use GPS location')\n",
    "ook_df = ook_df[ook_df['location_type_start'] == 1]\n",
    "print('Shape is now', ook_df.shape)"
   ]
  },
  {
   "cell_type": "code",
   "execution_count": 15,
   "metadata": {},
   "outputs": [
    {
     "name": "stdout",
     "output_type": "stream",
     "text": [
      "Removing any location_age_a older than ten minutes.\n",
      "Shape is now (456059, 38)\n"
     ]
    }
   ],
   "source": [
    "# 4)\tRemove rows where location_age_a is older than ten minutes. (10 x 60 x 1000 milliseconds)\n",
    "print('Removing any location_age_a older than ten minutes.')\n",
    "# First change \n",
    "ook_df.location_age_a = pd.to_numeric(ook_df.location_age_a, errors='coerce').fillna(0).astype(np.int64)\n",
    "ook_df = ook_df[ook_df['location_age_a'] < 10 * 60 * 1000]\n",
    "print('Shape is now', ook_df.shape)"
   ]
  },
  {
   "cell_type": "code",
   "execution_count": 16,
   "metadata": {},
   "outputs": [],
   "source": [
    "# 5)  Use the pre_connection_type codes to determine which calls are on WiFi\n",
    "# 2 = WiFi, all else is some type of cellular\n",
    "ook_df['WiFi'] = np.where(ook_df.pre_connection_type == 2, 1, 0)"
   ]
  },
  {
   "cell_type": "code",
   "execution_count": 17,
   "metadata": {},
   "outputs": [],
   "source": [
    "# 6)  Rewrite Ookla data as a pickle file.\n",
    "ook_df.to_pickle(workdir + '/ookla.pickle')"
   ]
  },
  {
   "cell_type": "code",
   "execution_count": 18,
   "metadata": {},
   "outputs": [],
   "source": [
    "ook_df.to_csv(workdir + '/ookla_final.csv')"
   ]
  },
  {
   "cell_type": "code",
   "execution_count": 19,
   "metadata": {},
   "outputs": [],
   "source": [
    "rf.to_csv(workdir + '/map_final.csv')"
   ]
  }
 ],
 "metadata": {
  "kernelspec": {
   "display_name": "Python 3",
   "language": "python",
   "name": "python3"
  },
  "language_info": {
   "codemirror_mode": {
    "name": "ipython",
    "version": 3
   },
   "file_extension": ".py",
   "mimetype": "text/x-python",
   "name": "python",
   "nbconvert_exporter": "python",
   "pygments_lexer": "ipython3",
   "version": "3.8.6"
  }
 },
 "nbformat": 4,
 "nbformat_minor": 4
}
